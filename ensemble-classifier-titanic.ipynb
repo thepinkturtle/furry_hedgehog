{
 "cells": [
  {
   "cell_type": "code",
   "execution_count": 1,
   "id": "17425460",
   "metadata": {
    "_cell_guid": "b1076dfc-b9ad-4769-8c92-a6c4dae69d19",
    "_uuid": "8f2839f25d086af736a60e9eeb907d3b93b6e0e5",
    "execution": {
     "iopub.execute_input": "2022-07-30T01:30:13.160400Z",
     "iopub.status.busy": "2022-07-30T01:30:13.159413Z",
     "iopub.status.idle": "2022-07-30T01:30:13.175667Z",
     "shell.execute_reply": "2022-07-30T01:30:13.174522Z"
    },
    "papermill": {
     "duration": 0.024007,
     "end_time": "2022-07-30T01:30:13.178075",
     "exception": false,
     "start_time": "2022-07-30T01:30:13.154068",
     "status": "completed"
    },
    "tags": []
   },
   "outputs": [
    {
     "name": "stdout",
     "output_type": "stream",
     "text": [
      "/kaggle/input/spaceship-titanic/sample_submission.csv\n",
      "/kaggle/input/spaceship-titanic/train.csv\n",
      "/kaggle/input/spaceship-titanic/test.csv\n"
     ]
    }
   ],
   "source": [
    "# This Python 3 environment comes with many helpful analytics libraries installed\n",
    "# It is defined by the kaggle/python Docker image: https://github.com/kaggle/docker-python\n",
    "# For example, here's several helpful packages to load\n",
    "\n",
    "import numpy as np # linear algebra\n",
    "import pandas as pd # data processing, CSV file I/O (e.g. pd.read_csv)\n",
    "\n",
    "# Input data files are available in the read-only \"../input/\" directory\n",
    "# For example, running this (by clicking run or pressing Shift+Enter) will list all files under the input directory\n",
    "\n",
    "import os\n",
    "for dirname, _, filenames in os.walk('/kaggle/input'):\n",
    "    for filename in filenames:\n",
    "        print(os.path.join(dirname, filename))\n",
    "\n",
    "# You can write up to 20GB to the current directory (/kaggle/working/) that gets preserved as output when you create a version using \"Save & Run All\" \n",
    "# You can also write temporary files to /kaggle/temp/, but they won't be saved outside of the current session"
   ]
  },
  {
   "cell_type": "code",
   "execution_count": 2,
   "id": "be023103",
   "metadata": {
    "execution": {
     "iopub.execute_input": "2022-07-30T01:30:13.184840Z",
     "iopub.status.busy": "2022-07-30T01:30:13.184162Z",
     "iopub.status.idle": "2022-07-30T01:30:14.628481Z",
     "shell.execute_reply": "2022-07-30T01:30:14.627289Z"
    },
    "papermill": {
     "duration": 1.450969,
     "end_time": "2022-07-30T01:30:14.631554",
     "exception": false,
     "start_time": "2022-07-30T01:30:13.180585",
     "status": "completed"
    },
    "tags": []
   },
   "outputs": [],
   "source": [
    "import sklearn\n",
    "from sklearn.model_selection import train_test_split, GridSearchCV\n",
    "from sklearn.preprocessing import OneHotEncoder, StandardScaler\n",
    "from sklearn.impute import SimpleImputer\n",
    "from sklearn.pipeline import Pipeline\n",
    "from sklearn.compose import ColumnTransformer\n",
    "from sklearn.svm import SVC\n",
    "from sklearn.metrics import accuracy_score\n",
    "from sklearn.ensemble import RandomForestClassifier\n"
   ]
  },
  {
   "cell_type": "code",
   "execution_count": 3,
   "id": "8a6b2582",
   "metadata": {
    "execution": {
     "iopub.execute_input": "2022-07-30T01:30:14.638466Z",
     "iopub.status.busy": "2022-07-30T01:30:14.637476Z",
     "iopub.status.idle": "2022-07-30T01:30:14.727437Z",
     "shell.execute_reply": "2022-07-30T01:30:14.726201Z"
    },
    "papermill": {
     "duration": 0.096133,
     "end_time": "2022-07-30T01:30:14.730036",
     "exception": false,
     "start_time": "2022-07-30T01:30:14.633903",
     "status": "completed"
    },
    "tags": []
   },
   "outputs": [],
   "source": [
    "training_data = pd.read_csv('/kaggle/input/spaceship-titanic/train.csv')\n",
    "test_data = pd.read_csv('/kaggle/input/spaceship-titanic/test.csv')\n",
    "\n",
    "y = training_data.Transported\n",
    "training_data.drop(['Transported', 'Name'], axis=1, inplace=True)\n",
    "X = training_data\n"
   ]
  },
  {
   "cell_type": "code",
   "execution_count": 4,
   "id": "65022890",
   "metadata": {
    "execution": {
     "iopub.execute_input": "2022-07-30T01:30:14.736352Z",
     "iopub.status.busy": "2022-07-30T01:30:14.735965Z",
     "iopub.status.idle": "2022-07-30T01:30:14.786589Z",
     "shell.execute_reply": "2022-07-30T01:30:14.785560Z"
    },
    "papermill": {
     "duration": 0.056608,
     "end_time": "2022-07-30T01:30:14.789160",
     "exception": false,
     "start_time": "2022-07-30T01:30:14.732552",
     "status": "completed"
    },
    "tags": []
   },
   "outputs": [],
   "source": [
    "# Load the data\n",
    "training_data = pd.read_csv('/kaggle/input/spaceship-titanic/train.csv')\n",
    "test_data = pd.read_csv('/kaggle/input/spaceship-titanic/test.csv')\n",
    "\n",
    "y = training_data.Transported\n",
    "training_data.drop(['Transported'], axis=1, inplace=True)\n",
    "X = training_data\n",
    "\n",
    "# Get categorical and numerical cols \n",
    "cat_cols = [col for col in X.columns if X[col].dtype == 'object']\n",
    "num_cols = [col for col in X.columns if X[col].dtype in ['int64', 'float64']]"
   ]
  },
  {
   "cell_type": "code",
   "execution_count": 5,
   "id": "c24cc354",
   "metadata": {
    "execution": {
     "iopub.execute_input": "2022-07-30T01:30:14.795972Z",
     "iopub.status.busy": "2022-07-30T01:30:14.795044Z",
     "iopub.status.idle": "2022-07-30T01:55:11.422121Z",
     "shell.execute_reply": "2022-07-30T01:55:11.420873Z"
    },
    "papermill": {
     "duration": 1496.634734,
     "end_time": "2022-07-30T01:55:11.426211",
     "exception": false,
     "start_time": "2022-07-30T01:30:14.791477",
     "status": "completed"
    },
    "tags": []
   },
   "outputs": [
    {
     "name": "stdout",
     "output_type": "stream",
     "text": [
      "accuracy_score:  0.7498562392179413\n"
     ]
    }
   ],
   "source": [
    " param_grid = { \n",
    "    'model__n_estimators': [200,400,600,800,1000],\n",
    "    'model__max_features': ['auto', 'sqrt', 'log2'],\n",
    "    'model__max_depth' : [5,10,15,20,25,30,35,40,45,50],\n",
    "    'model__criterion' :['gini', 'entropy']\n",
    "}\n",
    "\n",
    "# Create the preprocessing pipelines\n",
    "num_pipe = Pipeline(steps=[\n",
    "    ('imputer', SimpleImputer(strategy='most_frequent')),\n",
    "    ('scaler', StandardScaler())\n",
    "])\n",
    "\n",
    "cat_pipe = Pipeline(steps=[\n",
    "    ('imputer', SimpleImputer(strategy='most_frequent')),\n",
    "    ('onehot', OneHotEncoder(handle_unknown='ignore'))\n",
    "])\n",
    "\n",
    "preprocessor = ColumnTransformer([\n",
    "    ('numerical', num_pipe, num_cols),\n",
    "    ('categorical', cat_pipe, cat_cols)\n",
    "])\n",
    "\n",
    "# Define the model\n",
    "model = RandomForestClassifier(n_estimators=1200, random_state=42)\n",
    "\n",
    "pipeline = Pipeline(steps=[\n",
    "    ('preprocessor', preprocessor),\n",
    "    ('model', model)\n",
    "])\n",
    "\n",
    "# Split the data\n",
    "X_train, X_valid, y_train, y_valid = train_test_split(X, y, train_size=.8, test_size=.2, random_state=42)\n",
    "\n",
    "# Fit the model\n",
    "grid_search_model = GridSearchCV(estimator=pipeline, param_grid=param_grid, n_jobs=4 )\n",
    "grid_search_model.fit(X_train, y_train)\n",
    "\n",
    "# Make predictions\n",
    "pred = grid_search_model.predict(X_valid)\n",
    "\n",
    "# Evaluate the Model\n",
    "score = accuracy_score(y_valid, pred)\n",
    "\n",
    "print(\"accuracy_score: \", score)\n"
   ]
  },
  {
   "cell_type": "code",
   "execution_count": 6,
   "id": "e41dbb58",
   "metadata": {
    "execution": {
     "iopub.execute_input": "2022-07-30T01:55:11.434026Z",
     "iopub.status.busy": "2022-07-30T01:55:11.433636Z",
     "iopub.status.idle": "2022-07-30T01:55:12.172384Z",
     "shell.execute_reply": "2022-07-30T01:55:12.171369Z"
    },
    "papermill": {
     "duration": 0.745536,
     "end_time": "2022-07-30T01:55:12.175021",
     "exception": false,
     "start_time": "2022-07-30T01:55:11.429485",
     "status": "completed"
    },
    "tags": []
   },
   "outputs": [],
   "source": [
    "pred = grid_search_model.predict(test_data)\n",
    "final_output = pd.DataFrame({'PassengerId': test_data[\"PassengerId\"], \"Transported\": pred})\n",
    "final_output.to_csv('submission.csv',index=False)"
   ]
  }
 ],
 "metadata": {
  "kernelspec": {
   "display_name": "Python 3",
   "language": "python",
   "name": "python3"
  },
  "language_info": {
   "codemirror_mode": {
    "name": "ipython",
    "version": 3
   },
   "file_extension": ".py",
   "mimetype": "text/x-python",
   "name": "python",
   "nbconvert_exporter": "python",
   "pygments_lexer": "ipython3",
   "version": "3.7.12"
  },
  "papermill": {
   "default_parameters": {},
   "duration": 1510.857201,
   "end_time": "2022-07-30T01:55:14.800627",
   "environment_variables": {},
   "exception": null,
   "input_path": "__notebook__.ipynb",
   "output_path": "__notebook__.ipynb",
   "parameters": {},
   "start_time": "2022-07-30T01:30:03.943426",
   "version": "2.3.4"
  }
 },
 "nbformat": 4,
 "nbformat_minor": 5
}
