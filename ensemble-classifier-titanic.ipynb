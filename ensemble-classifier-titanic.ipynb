{
 "cells": [
  {
   "cell_type": "code",
   "execution_count": 1,
   "id": "31c50752",
   "metadata": {
    "_cell_guid": "b1076dfc-b9ad-4769-8c92-a6c4dae69d19",
    "_uuid": "8f2839f25d086af736a60e9eeb907d3b93b6e0e5",
    "execution": {
     "iopub.execute_input": "2022-07-30T02:23:04.409645Z",
     "iopub.status.busy": "2022-07-30T02:23:04.409239Z",
     "iopub.status.idle": "2022-07-30T02:23:04.427715Z",
     "shell.execute_reply": "2022-07-30T02:23:04.426776Z"
    },
    "papermill": {
     "duration": 0.025589,
     "end_time": "2022-07-30T02:23:04.430223",
     "exception": false,
     "start_time": "2022-07-30T02:23:04.404634",
     "status": "completed"
    },
    "tags": []
   },
   "outputs": [
    {
     "name": "stdout",
     "output_type": "stream",
     "text": [
      "/kaggle/input/spaceship-titanic/sample_submission.csv\n",
      "/kaggle/input/spaceship-titanic/train.csv\n",
      "/kaggle/input/spaceship-titanic/test.csv\n"
     ]
    }
   ],
   "source": [
    "# This Python 3 environment comes with many helpful analytics libraries installed\n",
    "# It is defined by the kaggle/python Docker image: https://github.com/kaggle/docker-python\n",
    "# For example, here's several helpful packages to load\n",
    "\n",
    "import numpy as np # linear algebra\n",
    "import pandas as pd # data processing, CSV file I/O (e.g. pd.read_csv)\n",
    "\n",
    "# Input data files are available in the read-only \"../input/\" directory\n",
    "# For example, running this (by clicking run or pressing Shift+Enter) will list all files under the input directory\n",
    "\n",
    "import os\n",
    "for dirname, _, filenames in os.walk('/kaggle/input'):\n",
    "    for filename in filenames:\n",
    "        print(os.path.join(dirname, filename))\n",
    "\n",
    "# You can write up to 20GB to the current directory (/kaggle/working/) that gets preserved as output when you create a version using \"Save & Run All\" \n",
    "# You can also write temporary files to /kaggle/temp/, but they won't be saved outside of the current session"
   ]
  },
  {
   "cell_type": "code",
   "execution_count": 2,
   "id": "e2bf1719",
   "metadata": {
    "execution": {
     "iopub.execute_input": "2022-07-30T02:23:04.440142Z",
     "iopub.status.busy": "2022-07-30T02:23:04.438099Z",
     "iopub.status.idle": "2022-07-30T02:23:05.931555Z",
     "shell.execute_reply": "2022-07-30T02:23:05.930476Z"
    },
    "papermill": {
     "duration": 1.500001,
     "end_time": "2022-07-30T02:23:05.933691",
     "exception": false,
     "start_time": "2022-07-30T02:23:04.433690",
     "status": "completed"
    },
    "tags": []
   },
   "outputs": [],
   "source": [
    "import sklearn\n",
    "from sklearn.model_selection import train_test_split, GridSearchCV\n",
    "from sklearn.preprocessing import OneHotEncoder, StandardScaler\n",
    "from sklearn.impute import SimpleImputer\n",
    "from sklearn.pipeline import Pipeline\n",
    "from sklearn.compose import ColumnTransformer\n",
    "from sklearn.svm import SVC\n",
    "from sklearn.metrics import accuracy_score\n",
    "from sklearn.ensemble import RandomForestClassifier\n"
   ]
  },
  {
   "cell_type": "code",
   "execution_count": 3,
   "id": "fc634a7a",
   "metadata": {
    "execution": {
     "iopub.execute_input": "2022-07-30T02:23:05.939486Z",
     "iopub.status.busy": "2022-07-30T02:23:05.939104Z",
     "iopub.status.idle": "2022-07-30T02:23:06.040227Z",
     "shell.execute_reply": "2022-07-30T02:23:06.039095Z"
    },
    "papermill": {
     "duration": 0.106634,
     "end_time": "2022-07-30T02:23:06.042511",
     "exception": false,
     "start_time": "2022-07-30T02:23:05.935877",
     "status": "completed"
    },
    "tags": []
   },
   "outputs": [],
   "source": [
    "training_data = pd.read_csv('/kaggle/input/spaceship-titanic/train.csv')\n",
    "test_data = pd.read_csv('/kaggle/input/spaceship-titanic/test.csv')\n",
    "\n",
    "y = training_data.Transported\n",
    "training_data.drop(['Transported', 'Name'], axis=1, inplace=True)\n",
    "X = training_data\n"
   ]
  },
  {
   "cell_type": "code",
   "execution_count": 4,
   "id": "aafa5245",
   "metadata": {
    "execution": {
     "iopub.execute_input": "2022-07-30T02:23:06.049627Z",
     "iopub.status.busy": "2022-07-30T02:23:06.049166Z",
     "iopub.status.idle": "2022-07-30T02:23:06.108645Z",
     "shell.execute_reply": "2022-07-30T02:23:06.107468Z"
    },
    "papermill": {
     "duration": 0.066218,
     "end_time": "2022-07-30T02:23:06.111074",
     "exception": false,
     "start_time": "2022-07-30T02:23:06.044856",
     "status": "completed"
    },
    "tags": []
   },
   "outputs": [],
   "source": [
    "# Load the data\n",
    "training_data = pd.read_csv('/kaggle/input/spaceship-titanic/train.csv')\n",
    "test_data = pd.read_csv('/kaggle/input/spaceship-titanic/test.csv')\n",
    "\n",
    "y = training_data.Transported\n",
    "training_data.drop(['Transported', 'Name'], axis=1, inplace=True)\n",
    "X = training_data\n",
    "\n",
    "# Get categorical and numerical cols \n",
    "cat_cols = [col for col in X.columns if X[col].dtype == 'object']\n",
    "num_cols = [col for col in X.columns if X[col].dtype in ['int64', 'float64']]"
   ]
  },
  {
   "cell_type": "code",
   "execution_count": 5,
   "id": "539d582d",
   "metadata": {
    "execution": {
     "iopub.execute_input": "2022-07-30T02:23:06.117423Z",
     "iopub.status.busy": "2022-07-30T02:23:06.116869Z",
     "iopub.status.idle": "2022-07-30T02:32:52.772726Z",
     "shell.execute_reply": "2022-07-30T02:32:52.771124Z"
    },
    "papermill": {
     "duration": 586.662227,
     "end_time": "2022-07-30T02:32:52.775545",
     "exception": false,
     "start_time": "2022-07-30T02:23:06.113318",
     "status": "completed"
    },
    "tags": []
   },
   "outputs": [
    {
     "data": {
      "text/plain": [
       "GridSearchCV(cv=2,\n",
       "             estimator=Pipeline(steps=[('preprocessor',\n",
       "                                        ColumnTransformer(transformers=[('numerical',\n",
       "                                                                         Pipeline(steps=[('imputer',\n",
       "                                                                                          SimpleImputer(strategy='most_frequent')),\n",
       "                                                                                         ('scaler',\n",
       "                                                                                          StandardScaler())]),\n",
       "                                                                         ['Age',\n",
       "                                                                          'RoomService',\n",
       "                                                                          'FoodCourt',\n",
       "                                                                          'ShoppingMall',\n",
       "                                                                          'Spa',\n",
       "                                                                          'VRDeck']),\n",
       "                                                                        ('categorical',\n",
       "                                                                         Pipeline(steps=[('imputer',\n",
       "                                                                                          SimpleImputer(strategy='most_frequent')),\n",
       "                                                                                         ('onehot',\n",
       "                                                                                          OneHotEncoder(handle_unknown='ignore'))]),\n",
       "                                                                         ['PassengerId',\n",
       "                                                                          'HomePlanet',\n",
       "                                                                          'CryoSleep',\n",
       "                                                                          'Cabin',\n",
       "                                                                          'Destination',\n",
       "                                                                          'VIP'])])),\n",
       "                                       ('model',\n",
       "                                        RandomForestClassifier(n_estimators=50,\n",
       "                                                               random_state=42))]),\n",
       "             n_jobs=4,\n",
       "             param_grid={'model__criterion': ['gini', 'entropy'],\n",
       "                         'model__max_features': ['auto', 'sqrt', 'log2'],\n",
       "                         'model__n_estimators': range(100, 1000, 100)})"
      ]
     },
     "execution_count": 5,
     "metadata": {},
     "output_type": "execute_result"
    }
   ],
   "source": [
    " param_grid = { \n",
    "    'model__n_estimators': range(100,1000, 100),\n",
    "    'model__max_features': ['auto', 'sqrt', 'log2'],\n",
    "    'model__criterion' :['gini', 'entropy'],\n",
    "}\n",
    "\n",
    "# Create the preprocessing pipelines\n",
    "num_pipe = Pipeline(steps=[\n",
    "    ('imputer', SimpleImputer(strategy='most_frequent')),\n",
    "    ('scaler', StandardScaler())\n",
    "])\n",
    "\n",
    "cat_pipe = Pipeline(steps=[\n",
    "    ('imputer', SimpleImputer(strategy='most_frequent')),\n",
    "    ('onehot', OneHotEncoder(handle_unknown='ignore'))\n",
    "])\n",
    "\n",
    "preprocessor = ColumnTransformer([\n",
    "    ('numerical', num_pipe, num_cols),\n",
    "    ('categorical', cat_pipe, cat_cols)\n",
    "])\n",
    "\n",
    "# Define the model\n",
    "model = RandomForestClassifier(n_estimators=50, random_state=42, )\n",
    "\n",
    "pipeline = Pipeline(steps=[\n",
    "    ('preprocessor', preprocessor),\n",
    "    ('model', model)\n",
    "])\n",
    "\n",
    "# Split the data\n",
    "# X_train, X_valid, y_train, y_valid = train_test_split(X, y, train_size=.8, test_size=.2, random_state=42)\n",
    "\n",
    "# Fit the model\n",
    "grid_search_model = GridSearchCV(estimator=pipeline, param_grid=param_grid, n_jobs=4, cv=2)\n",
    "grid_search_model.fit(X, y)\n",
    "\n",
    "# Make predictions\n",
    "# pred = grid_search_model.predict(X_valid)\n",
    "\n",
    "# Evaluate the Model\n",
    "# score = accuracy_score(y_valid, pred)\n",
    "\n",
    "# print(\"accuracy_score: \", score)\n"
   ]
  },
  {
   "cell_type": "code",
   "execution_count": 6,
   "id": "87d57a09",
   "metadata": {
    "execution": {
     "iopub.execute_input": "2022-07-30T02:32:52.782585Z",
     "iopub.status.busy": "2022-07-30T02:32:52.782194Z",
     "iopub.status.idle": "2022-07-30T02:32:53.221513Z",
     "shell.execute_reply": "2022-07-30T02:32:53.220640Z"
    },
    "papermill": {
     "duration": 0.44558,
     "end_time": "2022-07-30T02:32:53.223560",
     "exception": false,
     "start_time": "2022-07-30T02:32:52.777980",
     "status": "completed"
    },
    "tags": []
   },
   "outputs": [],
   "source": [
    "pred = grid_search_model.predict(test_data)\n",
    "final_output = pd.DataFrame({'PassengerId': test_data[\"PassengerId\"], \"Transported\": pred})\n",
    "final_output.to_csv('submission.csv',index=False)"
   ]
  }
 ],
 "metadata": {
  "kernelspec": {
   "display_name": "Python 3",
   "language": "python",
   "name": "python3"
  },
  "language_info": {
   "codemirror_mode": {
    "name": "ipython",
    "version": 3
   },
   "file_extension": ".py",
   "mimetype": "text/x-python",
   "name": "python",
   "nbconvert_exporter": "python",
   "pygments_lexer": "ipython3",
   "version": "3.7.12"
  },
  "papermill": {
   "default_parameters": {},
   "duration": 602.901362,
   "end_time": "2022-07-30T02:32:55.848138",
   "environment_variables": {},
   "exception": null,
   "input_path": "__notebook__.ipynb",
   "output_path": "__notebook__.ipynb",
   "parameters": {},
   "start_time": "2022-07-30T02:22:52.946776",
   "version": "2.3.4"
  }
 },
 "nbformat": 4,
 "nbformat_minor": 5
}
